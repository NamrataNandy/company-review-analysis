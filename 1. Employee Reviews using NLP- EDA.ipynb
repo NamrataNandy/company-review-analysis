{
 "cells": [
  {
   "cell_type": "markdown",
   "id": "2bda4483",
   "metadata": {},
   "source": [
    "# Import Libraries"
   ]
  },
  {
   "cell_type": "code",
   "execution_count": 1,
   "id": "9e216e68",
   "metadata": {},
   "outputs": [],
   "source": [
    "import pandas as pd\n",
    "import numpy as np\n",
    "import re # to support modifiers, identifiers or white space char\n",
    "import seaborn as sns\n",
    "import matplotlib.pyplot as plt\n",
    "sns.set_style(\"whitegrid\")"
   ]
  },
  {
   "cell_type": "markdown",
   "id": "a094f08a",
   "metadata": {},
   "source": [
    "# Import data"
   ]
  },
  {
   "cell_type": "code",
   "execution_count": 3,
   "id": "cedb08de",
   "metadata": {},
   "outputs": [],
   "source": [
    "# Read the data, assign column index and modify 'Comment Date' using parse_dates- Pandas will attempt to infer the format of the datetime strings.\n",
    "df=pd.read_csv(r'/company-review-analysis-master/dataset/company1_review.csv', index_col=[0], parse_dates=['Comment Datetime'])"
   ]
  },
  {
   "cell_type": "code",
   "execution_count": 4,
   "id": "b3fe7f75",
   "metadata": {},
   "outputs": [
    {
     "data": {
      "text/html": [
       "<div>\n",
       "<style scoped>\n",
       "    .dataframe tbody tr th:only-of-type {\n",
       "        vertical-align: middle;\n",
       "    }\n",
       "\n",
       "    .dataframe tbody tr th {\n",
       "        vertical-align: top;\n",
       "    }\n",
       "\n",
       "    .dataframe thead th {\n",
       "        text-align: right;\n",
       "    }\n",
       "</style>\n",
       "<table border=\"1\" class=\"dataframe\">\n",
       "  <thead>\n",
       "    <tr style=\"text-align: right;\">\n",
       "      <th></th>\n",
       "      <th>Con</th>\n",
       "      <th>Career Opportunities</th>\n",
       "      <th>Author Location</th>\n",
       "      <th>Summary</th>\n",
       "      <th>Senior Management</th>\n",
       "      <th>Pro</th>\n",
       "      <th>Recommendation</th>\n",
       "      <th>Culture &amp; Values</th>\n",
       "      <th>Author Years</th>\n",
       "      <th>Overall Rating</th>\n",
       "      <th>Compensation and Benefits</th>\n",
       "      <th>Author Title</th>\n",
       "      <th>Work/Life Balance</th>\n",
       "      <th>Comment Datetime</th>\n",
       "    </tr>\n",
       "  </thead>\n",
       "  <tbody>\n",
       "    <tr>\n",
       "      <th>0</th>\n",
       "      <td>- potentially slow upward movement beyond the ...</td>\n",
       "      <td>5.0</td>\n",
       "      <td>Salt Lake City, UT</td>\n",
       "      <td>\"Awesome Culture\"</td>\n",
       "      <td>4.0</td>\n",
       "      <td>- awesome introduction into finance (no prior ...</td>\n",
       "      <td>Recommends,Positive Outlook,Approves of CEO</td>\n",
       "      <td>5.0</td>\n",
       "      <td>I have been working at Anonymous Investments f...</td>\n",
       "      <td>5.0</td>\n",
       "      <td>5.0</td>\n",
       "      <td>Current Employee - Investment Solutions Repres...</td>\n",
       "      <td>5.0</td>\n",
       "      <td>2020-06-18</td>\n",
       "    </tr>\n",
       "    <tr>\n",
       "      <th>1</th>\n",
       "      <td>Few jobs are off the phones. Call after call g...</td>\n",
       "      <td>NaN</td>\n",
       "      <td>NaN</td>\n",
       "      <td>\"Great job\"</td>\n",
       "      <td>NaN</td>\n",
       "      <td>Great benefits, great people. Work from home f...</td>\n",
       "      <td>Recommends,Positive Outlook,Approves of CEO</td>\n",
       "      <td>NaN</td>\n",
       "      <td>I have been working at Anonymous Investments f...</td>\n",
       "      <td>5.0</td>\n",
       "      <td>NaN</td>\n",
       "      <td>Current Employee - Investment Solutions Repres...</td>\n",
       "      <td>NaN</td>\n",
       "      <td>2020-06-16</td>\n",
       "    </tr>\n",
       "    <tr>\n",
       "      <th>2</th>\n",
       "      <td>Phone call center, must be good on the phones.</td>\n",
       "      <td>5.0</td>\n",
       "      <td>American Fork, UT</td>\n",
       "      <td>\"Great place to work\"</td>\n",
       "      <td>4.0</td>\n",
       "      <td>Excellent benefits, plenty of opportunity to a...</td>\n",
       "      <td>NaN</td>\n",
       "      <td>5.0</td>\n",
       "      <td>I worked at Anonymous Investments full-time fo...</td>\n",
       "      <td>5.0</td>\n",
       "      <td>5.0</td>\n",
       "      <td>Former Employee - High Net Worth Service Assoc...</td>\n",
       "      <td>5.0</td>\n",
       "      <td>2020-06-17</td>\n",
       "    </tr>\n",
       "    <tr>\n",
       "      <th>3</th>\n",
       "      <td>Easy to get fired. They don’t always give warn...</td>\n",
       "      <td>4.0</td>\n",
       "      <td>NaN</td>\n",
       "      <td>\"Good environment, not so stable.\"</td>\n",
       "      <td>3.0</td>\n",
       "      <td>Good environment \\n\\nNice scenery, cafeteria, ...</td>\n",
       "      <td>Recommends</td>\n",
       "      <td>3.0</td>\n",
       "      <td>I worked at Anonymous Investments full-time</td>\n",
       "      <td>4.0</td>\n",
       "      <td>5.0</td>\n",
       "      <td>Former Employee - Financial Associate</td>\n",
       "      <td>3.0</td>\n",
       "      <td>2020-06-11</td>\n",
       "    </tr>\n",
       "    <tr>\n",
       "      <th>4</th>\n",
       "      <td>No cons in my opinion</td>\n",
       "      <td>5.0</td>\n",
       "      <td>Los Angeles, CA</td>\n",
       "      <td>\"Great company\"</td>\n",
       "      <td>4.0</td>\n",
       "      <td>Good work environment in my opinion</td>\n",
       "      <td>Recommends,Positive Outlook,Approves of CEO</td>\n",
       "      <td>5.0</td>\n",
       "      <td>I worked at Anonymous Investments full-time</td>\n",
       "      <td>5.0</td>\n",
       "      <td>4.0</td>\n",
       "      <td>Former Employee - Investment Consultant</td>\n",
       "      <td>5.0</td>\n",
       "      <td>2020-06-11</td>\n",
       "    </tr>\n",
       "  </tbody>\n",
       "</table>\n",
       "</div>"
      ],
      "text/plain": [
       "                                                 Con  Career Opportunities  \\\n",
       "0  - potentially slow upward movement beyond the ...                   5.0   \n",
       "1  Few jobs are off the phones. Call after call g...                   NaN   \n",
       "2     Phone call center, must be good on the phones.                   5.0   \n",
       "3  Easy to get fired. They don’t always give warn...                   4.0   \n",
       "4                              No cons in my opinion                   5.0   \n",
       "\n",
       "      Author Location                             Summary  Senior Management  \\\n",
       "0  Salt Lake City, UT                   \"Awesome Culture\"                4.0   \n",
       "1                 NaN                         \"Great job\"                NaN   \n",
       "2   American Fork, UT               \"Great place to work\"                4.0   \n",
       "3                 NaN  \"Good environment, not so stable.\"                3.0   \n",
       "4     Los Angeles, CA                     \"Great company\"                4.0   \n",
       "\n",
       "                                                 Pro  \\\n",
       "0  - awesome introduction into finance (no prior ...   \n",
       "1  Great benefits, great people. Work from home f...   \n",
       "2  Excellent benefits, plenty of opportunity to a...   \n",
       "3  Good environment \\n\\nNice scenery, cafeteria, ...   \n",
       "4                Good work environment in my opinion   \n",
       "\n",
       "                                Recommendation  Culture & Values  \\\n",
       "0  Recommends,Positive Outlook,Approves of CEO               5.0   \n",
       "1  Recommends,Positive Outlook,Approves of CEO               NaN   \n",
       "2                                          NaN               5.0   \n",
       "3                                   Recommends               3.0   \n",
       "4  Recommends,Positive Outlook,Approves of CEO               5.0   \n",
       "\n",
       "                                        Author Years  Overall Rating  \\\n",
       "0  I have been working at Anonymous Investments f...             5.0   \n",
       "1  I have been working at Anonymous Investments f...             5.0   \n",
       "2  I worked at Anonymous Investments full-time fo...             5.0   \n",
       "3        I worked at Anonymous Investments full-time             4.0   \n",
       "4        I worked at Anonymous Investments full-time             5.0   \n",
       "\n",
       "   Compensation and Benefits  \\\n",
       "0                        5.0   \n",
       "1                        NaN   \n",
       "2                        5.0   \n",
       "3                        5.0   \n",
       "4                        4.0   \n",
       "\n",
       "                                        Author Title  Work/Life Balance  \\\n",
       "0  Current Employee - Investment Solutions Repres...                5.0   \n",
       "1  Current Employee - Investment Solutions Repres...                NaN   \n",
       "2  Former Employee - High Net Worth Service Assoc...                5.0   \n",
       "3              Former Employee - Financial Associate                3.0   \n",
       "4            Former Employee - Investment Consultant                5.0   \n",
       "\n",
       "  Comment Datetime  \n",
       "0       2020-06-18  \n",
       "1       2020-06-16  \n",
       "2       2020-06-17  \n",
       "3       2020-06-11  \n",
       "4       2020-06-11  "
      ]
     },
     "execution_count": 4,
     "metadata": {},
     "output_type": "execute_result"
    }
   ],
   "source": [
    "df.head()"
   ]
  },
  {
   "cell_type": "markdown",
   "id": "5aaf8b68",
   "metadata": {},
   "source": [
    "# Exploratory Data Analysis"
   ]
  },
  {
   "cell_type": "code",
   "execution_count": 11,
   "id": "19dc21da",
   "metadata": {},
   "outputs": [
    {
     "data": {
      "text/plain": [
       "(6386, 14)"
      ]
     },
     "execution_count": 11,
     "metadata": {},
     "output_type": "execute_result"
    }
   ],
   "source": [
    "df.shape"
   ]
  },
  {
   "cell_type": "code",
   "execution_count": 12,
   "id": "b2f8248b",
   "metadata": {},
   "outputs": [
    {
     "data": {
      "text/plain": [
       "Index(['Con', 'Career Opportunities', 'Author Location', 'Summary',\n",
       "       'Senior Management', 'Pro', 'Recommendation', 'Culture & Values',\n",
       "       'Author Years', 'Overall Rating', 'Compensation and Benefits',\n",
       "       'Author Title', 'Work/Life Balance', 'Comment Datetime'],\n",
       "      dtype='object')"
      ]
     },
     "execution_count": 12,
     "metadata": {},
     "output_type": "execute_result"
    }
   ],
   "source": [
    "df.columns"
   ]
  },
  {
   "cell_type": "code",
   "execution_count": 13,
   "id": "b09b4dea",
   "metadata": {},
   "outputs": [
    {
     "name": "stdout",
     "output_type": "stream",
     "text": [
      "<class 'pandas.core.frame.DataFrame'>\n",
      "Int64Index: 6386 entries, 0 to 6674\n",
      "Data columns (total 14 columns):\n",
      " #   Column                     Non-Null Count  Dtype         \n",
      "---  ------                     --------------  -----         \n",
      " 0   Con                        6386 non-null   object        \n",
      " 1   Career Opportunities       5689 non-null   float64       \n",
      " 2   Author Location            3879 non-null   object        \n",
      " 3   Summary                    6386 non-null   object        \n",
      " 4   Senior Management          5653 non-null   float64       \n",
      " 5   Pro                        6386 non-null   object        \n",
      " 6   Recommendation             5529 non-null   object        \n",
      " 7   Culture & Values           4871 non-null   float64       \n",
      " 8   Author Years               6386 non-null   object        \n",
      " 9   Overall Rating             6386 non-null   float64       \n",
      " 10  Compensation and Benefits  5697 non-null   float64       \n",
      " 11  Author Title               5406 non-null   object        \n",
      " 12  Work/Life Balance          5691 non-null   float64       \n",
      " 13  Comment Datetime           6386 non-null   datetime64[ns]\n",
      "dtypes: datetime64[ns](1), float64(6), object(7)\n",
      "memory usage: 748.4+ KB\n"
     ]
    }
   ],
   "source": [
    "df.info()"
   ]
  },
  {
   "cell_type": "code",
   "execution_count": 14,
   "id": "eecad150",
   "metadata": {},
   "outputs": [
    {
     "data": {
      "text/plain": [
       "Con                             0\n",
       "Career Opportunities          697\n",
       "Author Location              2507\n",
       "Summary                         0\n",
       "Senior Management             733\n",
       "Pro                             0\n",
       "Recommendation                857\n",
       "Culture & Values             1515\n",
       "Author Years                    0\n",
       "Overall Rating                  0\n",
       "Compensation and Benefits     689\n",
       "Author Title                  980\n",
       "Work/Life Balance             695\n",
       "Comment Datetime                0\n",
       "dtype: int64"
      ]
     },
     "execution_count": 14,
     "metadata": {},
     "output_type": "execute_result"
    }
   ],
   "source": [
    "df.isnull().sum()"
   ]
  },
  {
   "cell_type": "code",
   "execution_count": 15,
   "id": "45b24207",
   "metadata": {},
   "outputs": [],
   "source": [
    "df.drop_duplicates(inplace=True)"
   ]
  },
  {
   "cell_type": "code",
   "execution_count": 16,
   "id": "cc7028f2",
   "metadata": {},
   "outputs": [
    {
     "data": {
      "text/plain": [
       "(6386, 14)"
      ]
     },
     "execution_count": 16,
     "metadata": {},
     "output_type": "execute_result"
    }
   ],
   "source": [
    "df.shape"
   ]
  },
  {
   "cell_type": "code",
   "execution_count": 17,
   "id": "127d2a6d",
   "metadata": {},
   "outputs": [],
   "source": [
    "ratings_col=df.select_dtypes(include='float64')\n",
    "string_col=df.select_dtypes(exclude='float64')\n",
    "df_col_sorted=pd.concat([string_col,ratings_col],axis=1)"
   ]
  },
  {
   "cell_type": "code",
   "execution_count": 18,
   "id": "fb96b3ed",
   "metadata": {},
   "outputs": [
    {
     "data": {
      "text/html": [
       "<div>\n",
       "<style scoped>\n",
       "    .dataframe tbody tr th:only-of-type {\n",
       "        vertical-align: middle;\n",
       "    }\n",
       "\n",
       "    .dataframe tbody tr th {\n",
       "        vertical-align: top;\n",
       "    }\n",
       "\n",
       "    .dataframe thead th {\n",
       "        text-align: right;\n",
       "    }\n",
       "</style>\n",
       "<table border=\"1\" class=\"dataframe\">\n",
       "  <thead>\n",
       "    <tr style=\"text-align: right;\">\n",
       "      <th></th>\n",
       "      <th>Con</th>\n",
       "      <th>Author Location</th>\n",
       "      <th>Summary</th>\n",
       "      <th>Pro</th>\n",
       "      <th>Recommendation</th>\n",
       "      <th>Author Years</th>\n",
       "      <th>Author Title</th>\n",
       "      <th>Comment Datetime</th>\n",
       "      <th>Career Opportunities</th>\n",
       "      <th>Senior Management</th>\n",
       "      <th>Culture &amp; Values</th>\n",
       "      <th>Overall Rating</th>\n",
       "      <th>Compensation and Benefits</th>\n",
       "      <th>Work/Life Balance</th>\n",
       "    </tr>\n",
       "  </thead>\n",
       "  <tbody>\n",
       "    <tr>\n",
       "      <th>0</th>\n",
       "      <td>- potentially slow upward movement beyond the ...</td>\n",
       "      <td>Salt Lake City, UT</td>\n",
       "      <td>\"Awesome Culture\"</td>\n",
       "      <td>- awesome introduction into finance (no prior ...</td>\n",
       "      <td>Recommends,Positive Outlook,Approves of CEO</td>\n",
       "      <td>I have been working at Anonymous Investments f...</td>\n",
       "      <td>Current Employee - Investment Solutions Repres...</td>\n",
       "      <td>2020-06-18</td>\n",
       "      <td>5.0</td>\n",
       "      <td>4.0</td>\n",
       "      <td>5.0</td>\n",
       "      <td>5.0</td>\n",
       "      <td>5.0</td>\n",
       "      <td>5.0</td>\n",
       "    </tr>\n",
       "    <tr>\n",
       "      <th>1</th>\n",
       "      <td>Few jobs are off the phones. Call after call g...</td>\n",
       "      <td>NaN</td>\n",
       "      <td>\"Great job\"</td>\n",
       "      <td>Great benefits, great people. Work from home f...</td>\n",
       "      <td>Recommends,Positive Outlook,Approves of CEO</td>\n",
       "      <td>I have been working at Anonymous Investments f...</td>\n",
       "      <td>Current Employee - Investment Solutions Repres...</td>\n",
       "      <td>2020-06-16</td>\n",
       "      <td>NaN</td>\n",
       "      <td>NaN</td>\n",
       "      <td>NaN</td>\n",
       "      <td>5.0</td>\n",
       "      <td>NaN</td>\n",
       "      <td>NaN</td>\n",
       "    </tr>\n",
       "    <tr>\n",
       "      <th>2</th>\n",
       "      <td>Phone call center, must be good on the phones.</td>\n",
       "      <td>American Fork, UT</td>\n",
       "      <td>\"Great place to work\"</td>\n",
       "      <td>Excellent benefits, plenty of opportunity to a...</td>\n",
       "      <td>NaN</td>\n",
       "      <td>I worked at Anonymous Investments full-time fo...</td>\n",
       "      <td>Former Employee - High Net Worth Service Assoc...</td>\n",
       "      <td>2020-06-17</td>\n",
       "      <td>5.0</td>\n",
       "      <td>4.0</td>\n",
       "      <td>5.0</td>\n",
       "      <td>5.0</td>\n",
       "      <td>5.0</td>\n",
       "      <td>5.0</td>\n",
       "    </tr>\n",
       "    <tr>\n",
       "      <th>3</th>\n",
       "      <td>Easy to get fired. They don’t always give warn...</td>\n",
       "      <td>NaN</td>\n",
       "      <td>\"Good environment, not so stable.\"</td>\n",
       "      <td>Good environment \\n\\nNice scenery, cafeteria, ...</td>\n",
       "      <td>Recommends</td>\n",
       "      <td>I worked at Anonymous Investments full-time</td>\n",
       "      <td>Former Employee - Financial Associate</td>\n",
       "      <td>2020-06-11</td>\n",
       "      <td>4.0</td>\n",
       "      <td>3.0</td>\n",
       "      <td>3.0</td>\n",
       "      <td>4.0</td>\n",
       "      <td>5.0</td>\n",
       "      <td>3.0</td>\n",
       "    </tr>\n",
       "    <tr>\n",
       "      <th>4</th>\n",
       "      <td>No cons in my opinion</td>\n",
       "      <td>Los Angeles, CA</td>\n",
       "      <td>\"Great company\"</td>\n",
       "      <td>Good work environment in my opinion</td>\n",
       "      <td>Recommends,Positive Outlook,Approves of CEO</td>\n",
       "      <td>I worked at Anonymous Investments full-time</td>\n",
       "      <td>Former Employee - Investment Consultant</td>\n",
       "      <td>2020-06-11</td>\n",
       "      <td>5.0</td>\n",
       "      <td>4.0</td>\n",
       "      <td>5.0</td>\n",
       "      <td>5.0</td>\n",
       "      <td>4.0</td>\n",
       "      <td>5.0</td>\n",
       "    </tr>\n",
       "  </tbody>\n",
       "</table>\n",
       "</div>"
      ],
      "text/plain": [
       "                                                 Con     Author Location  \\\n",
       "0  - potentially slow upward movement beyond the ...  Salt Lake City, UT   \n",
       "1  Few jobs are off the phones. Call after call g...                 NaN   \n",
       "2     Phone call center, must be good on the phones.   American Fork, UT   \n",
       "3  Easy to get fired. They don’t always give warn...                 NaN   \n",
       "4                              No cons in my opinion     Los Angeles, CA   \n",
       "\n",
       "                              Summary  \\\n",
       "0                   \"Awesome Culture\"   \n",
       "1                         \"Great job\"   \n",
       "2               \"Great place to work\"   \n",
       "3  \"Good environment, not so stable.\"   \n",
       "4                     \"Great company\"   \n",
       "\n",
       "                                                 Pro  \\\n",
       "0  - awesome introduction into finance (no prior ...   \n",
       "1  Great benefits, great people. Work from home f...   \n",
       "2  Excellent benefits, plenty of opportunity to a...   \n",
       "3  Good environment \\n\\nNice scenery, cafeteria, ...   \n",
       "4                Good work environment in my opinion   \n",
       "\n",
       "                                Recommendation  \\\n",
       "0  Recommends,Positive Outlook,Approves of CEO   \n",
       "1  Recommends,Positive Outlook,Approves of CEO   \n",
       "2                                          NaN   \n",
       "3                                   Recommends   \n",
       "4  Recommends,Positive Outlook,Approves of CEO   \n",
       "\n",
       "                                        Author Years  \\\n",
       "0  I have been working at Anonymous Investments f...   \n",
       "1  I have been working at Anonymous Investments f...   \n",
       "2  I worked at Anonymous Investments full-time fo...   \n",
       "3        I worked at Anonymous Investments full-time   \n",
       "4        I worked at Anonymous Investments full-time   \n",
       "\n",
       "                                        Author Title Comment Datetime  \\\n",
       "0  Current Employee - Investment Solutions Repres...       2020-06-18   \n",
       "1  Current Employee - Investment Solutions Repres...       2020-06-16   \n",
       "2  Former Employee - High Net Worth Service Assoc...       2020-06-17   \n",
       "3              Former Employee - Financial Associate       2020-06-11   \n",
       "4            Former Employee - Investment Consultant       2020-06-11   \n",
       "\n",
       "   Career Opportunities  Senior Management  Culture & Values  Overall Rating  \\\n",
       "0                   5.0                4.0               5.0             5.0   \n",
       "1                   NaN                NaN               NaN             5.0   \n",
       "2                   5.0                4.0               5.0             5.0   \n",
       "3                   4.0                3.0               3.0             4.0   \n",
       "4                   5.0                4.0               5.0             5.0   \n",
       "\n",
       "   Compensation and Benefits  Work/Life Balance  \n",
       "0                        5.0                5.0  \n",
       "1                        NaN                NaN  \n",
       "2                        5.0                5.0  \n",
       "3                        5.0                3.0  \n",
       "4                        4.0                5.0  "
      ]
     },
     "execution_count": 18,
     "metadata": {},
     "output_type": "execute_result"
    }
   ],
   "source": [
    "df_col_sorted.head()"
   ]
  },
  {
   "cell_type": "markdown",
   "id": "48e1dc80",
   "metadata": {},
   "source": [
    "# Print the text of some samples "
   ]
  },
  {
   "cell_type": "code",
   "execution_count": 20,
   "id": "b139396b",
   "metadata": {},
   "outputs": [
    {
     "name": "stdout",
     "output_type": "stream",
     "text": [
      "Author Years: I worked at Anonymous Investments full-time\n",
      "Author Title: Former Employee - Investment Consultant\n",
      "Author Summary: \"Great company\"\n",
      "Author Pro: Good work environment in my opinion\n",
      "Author Con: No cons in my opinion\n",
      "====================\n",
      "Author Years: I have been working at Anonymous Investments full-time\n",
      "Author Title: Current Employee - Marketing Associate\n",
      "Author Summary: \"Great place to work\"\n",
      "Author Pro: Great benefits, inclusive community, and highly collaborate people to work with.\n",
      "Author Con: I don’t have any cons\n",
      "====================\n",
      "Author Years: I have been working at Anonymous Investments full-time for more than 8 years\n",
      "Author Title: Current Employee - Senior Software Test Engineer\n",
      "Author Summary: \"Good company to work for\"\n",
      "Author Pro: Good culture and opportunities to grow\n",
      "Author Con: Moving jobs to offshore for cost savings\n",
      "====================\n"
     ]
    }
   ],
   "source": [
    "for i in range(4,7):\n",
    "    print(\"Author Years:\",df['Author Years'][i])\n",
    "    print('Author Title:', df['Author Title'][i])\n",
    "    print('Author Summary:', df['Summary'][i])\n",
    "    print('Author Pro:', df['Pro'][i])\n",
    "    print('Author Con:', df['Con'][i])\n",
    "    print('====================')"
   ]
  },
  {
   "cell_type": "markdown",
   "id": "c3ca16e5",
   "metadata": {},
   "source": [
    "# Keyword extraction"
   ]
  },
  {
   "cell_type": "code",
   "execution_count": 21,
   "id": "e8c5ba6d",
   "metadata": {},
   "outputs": [],
   "source": [
    "def extract_cat_info(row):\n",
    "#   Extract Current/former employee from Author Years  \n",
    "    if \"worked at\" in row['Author Years']:\n",
    "        row['Current Employee']=0\n",
    "    elif \"work at\" in row['Author Years']:\n",
    "        row['Current Employee']=1\n",
    "    elif \"have been working\" in row['Author Years']:\n",
    "        row['Current Employee']=1\n",
    "    else:\n",
    "        row['Current Employee']=np.NaN\n",
    "\n",
    "# Extract tenure from Author Years\n",
    "    string_to_number = row[\"Author Years\"].replace(\"a year\", \"1 year\")  # replace 'a year' with '1 year'\n",
    "    tenure = re.findall(r'\\d+', string_to_number)                       # find the digit in the string\n",
    "    \n",
    "    if tenure: \n",
    "        row['Tenure'] = int(tenure[0])                 # use the number in the list\n",
    "        if 'more than' in row[\"Author Years\"]:         \n",
    "            row['Tenure'] += 0.5                       # add 0.5 year if there is 'more than'\n",
    "        elif 'less than' in row[\"Author Years\"]:       \n",
    "            row['Tenure'] -=0.5                        # minus 0.5 year if there is 'less than'\n",
    "    else:\n",
    "        row['Tenure'] = np.NaN                         # if no tenure is specified, set to NaN\n",
    "# Extract full time and part time from Author Years\n",
    "    if \"full-time\" in row['Author Years'] or \"full time\" in row['Author Years']:\n",
    "        row['Full-Time']=1\n",
    "    elif \"part-time\" in row['Author Years'] or \"part time\" in row['Author Years']:\n",
    "        row['Full-Time']=0\n",
    "    else:\n",
    "        row['Full-Time']=np.NaN\n",
    "\n",
    "    row['Recommended'] = 0\n",
    "    row['Positive Outlook'] = 0\n",
    "    row['Approves of CEO'] = 0\n",
    "    \n",
    "    if not pd.isna(row['Recommendation']):  \n",
    "        if 'Recommends' in row['Recommendation']:\n",
    "            row['Recommended'] = 1\n",
    "        elif \"Doesn't Recommend\" in row['Recommendation']:\n",
    "            row['Recommended'] = -1\n",
    "        elif 'Positive Outlook' in row['Recommendation']:\n",
    "            row['Positive Outlook'] = 1\n",
    "        elif 'Negative Outlook' in row['Recommendation']:   \n",
    "            row['Positive Outlook'] = -1\n",
    "        elif 'Neutral Outlook' in row['Recommendation']: \n",
    "            row['Positive Outlook'] = 0\n",
    "        elif 'Approves of CEO' in row['Recommendation']:\n",
    "            row['Approves of CEO'] = 1\n",
    "        elif 'Disapproves of CEO' in row['Recommendation']:\n",
    "            row['Approves of CEO'] = -1\n",
    "        elif 'No opinion of CEO' in row['Recommendation']:   \n",
    "            row['Approves of CEO'] = 0\n",
    "\n",
    "    return row\n",
    "\n",
    "df_extract_cat_info=df.apply(extract_cat_info,axis=1)\n",
    "            "
   ]
  },
  {
   "cell_type": "code",
   "execution_count": 22,
   "id": "4222adef",
   "metadata": {},
   "outputs": [
    {
     "data": {
      "text/html": [
       "<div>\n",
       "<style scoped>\n",
       "    .dataframe tbody tr th:only-of-type {\n",
       "        vertical-align: middle;\n",
       "    }\n",
       "\n",
       "    .dataframe tbody tr th {\n",
       "        vertical-align: top;\n",
       "    }\n",
       "\n",
       "    .dataframe thead th {\n",
       "        text-align: right;\n",
       "    }\n",
       "</style>\n",
       "<table border=\"1\" class=\"dataframe\">\n",
       "  <thead>\n",
       "    <tr style=\"text-align: right;\">\n",
       "      <th></th>\n",
       "      <th>Con</th>\n",
       "      <th>Career Opportunities</th>\n",
       "      <th>Author Location</th>\n",
       "      <th>Summary</th>\n",
       "      <th>Senior Management</th>\n",
       "      <th>Pro</th>\n",
       "      <th>Recommendation</th>\n",
       "      <th>Culture &amp; Values</th>\n",
       "      <th>Author Years</th>\n",
       "      <th>Overall Rating</th>\n",
       "      <th>Compensation and Benefits</th>\n",
       "      <th>Author Title</th>\n",
       "      <th>Work/Life Balance</th>\n",
       "      <th>Comment Datetime</th>\n",
       "      <th>Current Employee</th>\n",
       "      <th>Tenure</th>\n",
       "      <th>Full-Time</th>\n",
       "      <th>Recommended</th>\n",
       "      <th>Positive Outlook</th>\n",
       "      <th>Approves of CEO</th>\n",
       "    </tr>\n",
       "  </thead>\n",
       "  <tbody>\n",
       "    <tr>\n",
       "      <th>0</th>\n",
       "      <td>- potentially slow upward movement beyond the ...</td>\n",
       "      <td>5.0</td>\n",
       "      <td>Salt Lake City, UT</td>\n",
       "      <td>\"Awesome Culture\"</td>\n",
       "      <td>4.0</td>\n",
       "      <td>- awesome introduction into finance (no prior ...</td>\n",
       "      <td>Recommends,Positive Outlook,Approves of CEO</td>\n",
       "      <td>5.0</td>\n",
       "      <td>I have been working at Anonymous Investments f...</td>\n",
       "      <td>5.0</td>\n",
       "      <td>5.0</td>\n",
       "      <td>Current Employee - Investment Solutions Repres...</td>\n",
       "      <td>5.0</td>\n",
       "      <td>2020-06-18</td>\n",
       "      <td>1</td>\n",
       "      <td>1.5</td>\n",
       "      <td>1.0</td>\n",
       "      <td>1</td>\n",
       "      <td>0</td>\n",
       "      <td>0</td>\n",
       "    </tr>\n",
       "    <tr>\n",
       "      <th>1</th>\n",
       "      <td>Few jobs are off the phones. Call after call g...</td>\n",
       "      <td>NaN</td>\n",
       "      <td>NaN</td>\n",
       "      <td>\"Great job\"</td>\n",
       "      <td>NaN</td>\n",
       "      <td>Great benefits, great people. Work from home f...</td>\n",
       "      <td>Recommends,Positive Outlook,Approves of CEO</td>\n",
       "      <td>NaN</td>\n",
       "      <td>I have been working at Anonymous Investments f...</td>\n",
       "      <td>5.0</td>\n",
       "      <td>NaN</td>\n",
       "      <td>Current Employee - Investment Solutions Repres...</td>\n",
       "      <td>NaN</td>\n",
       "      <td>2020-06-16</td>\n",
       "      <td>1</td>\n",
       "      <td>3.5</td>\n",
       "      <td>1.0</td>\n",
       "      <td>1</td>\n",
       "      <td>0</td>\n",
       "      <td>0</td>\n",
       "    </tr>\n",
       "    <tr>\n",
       "      <th>2</th>\n",
       "      <td>Phone call center, must be good on the phones.</td>\n",
       "      <td>5.0</td>\n",
       "      <td>American Fork, UT</td>\n",
       "      <td>\"Great place to work\"</td>\n",
       "      <td>4.0</td>\n",
       "      <td>Excellent benefits, plenty of opportunity to a...</td>\n",
       "      <td>NaN</td>\n",
       "      <td>5.0</td>\n",
       "      <td>I worked at Anonymous Investments full-time fo...</td>\n",
       "      <td>5.0</td>\n",
       "      <td>5.0</td>\n",
       "      <td>Former Employee - High Net Worth Service Assoc...</td>\n",
       "      <td>5.0</td>\n",
       "      <td>2020-06-17</td>\n",
       "      <td>0</td>\n",
       "      <td>5.5</td>\n",
       "      <td>1.0</td>\n",
       "      <td>0</td>\n",
       "      <td>0</td>\n",
       "      <td>0</td>\n",
       "    </tr>\n",
       "    <tr>\n",
       "      <th>3</th>\n",
       "      <td>Easy to get fired. They don’t always give warn...</td>\n",
       "      <td>4.0</td>\n",
       "      <td>NaN</td>\n",
       "      <td>\"Good environment, not so stable.\"</td>\n",
       "      <td>3.0</td>\n",
       "      <td>Good environment \\n\\nNice scenery, cafeteria, ...</td>\n",
       "      <td>Recommends</td>\n",
       "      <td>3.0</td>\n",
       "      <td>I worked at Anonymous Investments full-time</td>\n",
       "      <td>4.0</td>\n",
       "      <td>5.0</td>\n",
       "      <td>Former Employee - Financial Associate</td>\n",
       "      <td>3.0</td>\n",
       "      <td>2020-06-11</td>\n",
       "      <td>0</td>\n",
       "      <td>NaN</td>\n",
       "      <td>1.0</td>\n",
       "      <td>1</td>\n",
       "      <td>0</td>\n",
       "      <td>0</td>\n",
       "    </tr>\n",
       "    <tr>\n",
       "      <th>4</th>\n",
       "      <td>No cons in my opinion</td>\n",
       "      <td>5.0</td>\n",
       "      <td>Los Angeles, CA</td>\n",
       "      <td>\"Great company\"</td>\n",
       "      <td>4.0</td>\n",
       "      <td>Good work environment in my opinion</td>\n",
       "      <td>Recommends,Positive Outlook,Approves of CEO</td>\n",
       "      <td>5.0</td>\n",
       "      <td>I worked at Anonymous Investments full-time</td>\n",
       "      <td>5.0</td>\n",
       "      <td>4.0</td>\n",
       "      <td>Former Employee - Investment Consultant</td>\n",
       "      <td>5.0</td>\n",
       "      <td>2020-06-11</td>\n",
       "      <td>0</td>\n",
       "      <td>NaN</td>\n",
       "      <td>1.0</td>\n",
       "      <td>1</td>\n",
       "      <td>0</td>\n",
       "      <td>0</td>\n",
       "    </tr>\n",
       "  </tbody>\n",
       "</table>\n",
       "</div>"
      ],
      "text/plain": [
       "                                                 Con  Career Opportunities  \\\n",
       "0  - potentially slow upward movement beyond the ...                   5.0   \n",
       "1  Few jobs are off the phones. Call after call g...                   NaN   \n",
       "2     Phone call center, must be good on the phones.                   5.0   \n",
       "3  Easy to get fired. They don’t always give warn...                   4.0   \n",
       "4                              No cons in my opinion                   5.0   \n",
       "\n",
       "      Author Location                             Summary  Senior Management  \\\n",
       "0  Salt Lake City, UT                   \"Awesome Culture\"                4.0   \n",
       "1                 NaN                         \"Great job\"                NaN   \n",
       "2   American Fork, UT               \"Great place to work\"                4.0   \n",
       "3                 NaN  \"Good environment, not so stable.\"                3.0   \n",
       "4     Los Angeles, CA                     \"Great company\"                4.0   \n",
       "\n",
       "                                                 Pro  \\\n",
       "0  - awesome introduction into finance (no prior ...   \n",
       "1  Great benefits, great people. Work from home f...   \n",
       "2  Excellent benefits, plenty of opportunity to a...   \n",
       "3  Good environment \\n\\nNice scenery, cafeteria, ...   \n",
       "4                Good work environment in my opinion   \n",
       "\n",
       "                                Recommendation  Culture & Values  \\\n",
       "0  Recommends,Positive Outlook,Approves of CEO               5.0   \n",
       "1  Recommends,Positive Outlook,Approves of CEO               NaN   \n",
       "2                                          NaN               5.0   \n",
       "3                                   Recommends               3.0   \n",
       "4  Recommends,Positive Outlook,Approves of CEO               5.0   \n",
       "\n",
       "                                        Author Years  Overall Rating  \\\n",
       "0  I have been working at Anonymous Investments f...             5.0   \n",
       "1  I have been working at Anonymous Investments f...             5.0   \n",
       "2  I worked at Anonymous Investments full-time fo...             5.0   \n",
       "3        I worked at Anonymous Investments full-time             4.0   \n",
       "4        I worked at Anonymous Investments full-time             5.0   \n",
       "\n",
       "   Compensation and Benefits  \\\n",
       "0                        5.0   \n",
       "1                        NaN   \n",
       "2                        5.0   \n",
       "3                        5.0   \n",
       "4                        4.0   \n",
       "\n",
       "                                        Author Title  Work/Life Balance  \\\n",
       "0  Current Employee - Investment Solutions Repres...                5.0   \n",
       "1  Current Employee - Investment Solutions Repres...                NaN   \n",
       "2  Former Employee - High Net Worth Service Assoc...                5.0   \n",
       "3              Former Employee - Financial Associate                3.0   \n",
       "4            Former Employee - Investment Consultant                5.0   \n",
       "\n",
       "  Comment Datetime  Current Employee  Tenure  Full-Time  Recommended  \\\n",
       "0       2020-06-18                 1     1.5        1.0            1   \n",
       "1       2020-06-16                 1     3.5        1.0            1   \n",
       "2       2020-06-17                 0     5.5        1.0            0   \n",
       "3       2020-06-11                 0     NaN        1.0            1   \n",
       "4       2020-06-11                 0     NaN        1.0            1   \n",
       "\n",
       "   Positive Outlook  Approves of CEO  \n",
       "0                 0                0  \n",
       "1                 0                0  \n",
       "2                 0                0  \n",
       "3                 0                0  \n",
       "4                 0                0  "
      ]
     },
     "execution_count": 22,
     "metadata": {},
     "output_type": "execute_result"
    }
   ],
   "source": [
    "df_extract_cat_info.head()"
   ]
  },
  {
   "cell_type": "markdown",
   "id": "5b3d2e5e",
   "metadata": {},
   "source": [
    "# Extracting more categorical information such as State, Employee Title using Author Location and Job Title resp."
   ]
  },
  {
   "cell_type": "code",
   "execution_count": 23,
   "id": "2680f7e7",
   "metadata": {},
   "outputs": [],
   "source": [
    "def extract_cat_info2(row):\n",
    "    # 1. extract location\n",
    "    if not pd.isna(row['Author Location']):\n",
    "        if re.search(r'[A-Z]{2}$',row['Author Location']): \n",
    "            # extract the last 2 captical letters as state\n",
    "            row['State'] = re.search(r'[A-Z]{2}$',row['Author Location'])[0]\n",
    "        else:\n",
    "            row['State'] = np.NaN      \n",
    "    else:\n",
    "            row['State'] = np.NaN                               \n",
    "    \n",
    "    # 2. extract job title\n",
    "    if pd.notnull(row['Author Title']) and row['Author Title']: \n",
    "        if '-'in row['Author Title']:  # author title usually starts like this: \"Current Employee - Analyst\" \n",
    "            row['Job Title'] = row['Author Title'].split(\"-\")[1]  # get the 2nd element after the split \n",
    "        else:\n",
    "            row['Job Title'] = row['Author Title']\n",
    "    else:\n",
    "         row['Job Title'] = 'Unknown Title'\n",
    "    # remove \"senior\" and \"principal\" to get fewer job categories \n",
    "    # remove the beginning & end spaces\n",
    "    row['Job Title'] = row['Job Title'].replace('Senior',\"\").replace('Principal',\"\").strip() \n",
    "    \n",
    "    return row       \n",
    "df_loc_job_filled = df_extract_cat_info.apply(extract_cat_info2,axis=1) "
   ]
  },
  {
   "cell_type": "code",
   "execution_count": 24,
   "id": "73f952c1",
   "metadata": {},
   "outputs": [
    {
     "data": {
      "text/html": [
       "<div>\n",
       "<style scoped>\n",
       "    .dataframe tbody tr th:only-of-type {\n",
       "        vertical-align: middle;\n",
       "    }\n",
       "\n",
       "    .dataframe tbody tr th {\n",
       "        vertical-align: top;\n",
       "    }\n",
       "\n",
       "    .dataframe thead th {\n",
       "        text-align: right;\n",
       "    }\n",
       "</style>\n",
       "<table border=\"1\" class=\"dataframe\">\n",
       "  <thead>\n",
       "    <tr style=\"text-align: right;\">\n",
       "      <th></th>\n",
       "      <th>Con</th>\n",
       "      <th>Career Opportunities</th>\n",
       "      <th>Author Location</th>\n",
       "      <th>Summary</th>\n",
       "      <th>Senior Management</th>\n",
       "      <th>Pro</th>\n",
       "      <th>Recommendation</th>\n",
       "      <th>Culture &amp; Values</th>\n",
       "      <th>Author Years</th>\n",
       "      <th>Overall Rating</th>\n",
       "      <th>...</th>\n",
       "      <th>Work/Life Balance</th>\n",
       "      <th>Comment Datetime</th>\n",
       "      <th>Current Employee</th>\n",
       "      <th>Tenure</th>\n",
       "      <th>Full-Time</th>\n",
       "      <th>Recommended</th>\n",
       "      <th>Positive Outlook</th>\n",
       "      <th>Approves of CEO</th>\n",
       "      <th>State</th>\n",
       "      <th>Job Title</th>\n",
       "    </tr>\n",
       "  </thead>\n",
       "  <tbody>\n",
       "    <tr>\n",
       "      <th>0</th>\n",
       "      <td>- potentially slow upward movement beyond the ...</td>\n",
       "      <td>5.0</td>\n",
       "      <td>Salt Lake City, UT</td>\n",
       "      <td>\"Awesome Culture\"</td>\n",
       "      <td>4.0</td>\n",
       "      <td>- awesome introduction into finance (no prior ...</td>\n",
       "      <td>Recommends,Positive Outlook,Approves of CEO</td>\n",
       "      <td>5.0</td>\n",
       "      <td>I have been working at Anonymous Investments f...</td>\n",
       "      <td>5.0</td>\n",
       "      <td>...</td>\n",
       "      <td>5.0</td>\n",
       "      <td>2020-06-18</td>\n",
       "      <td>1</td>\n",
       "      <td>1.5</td>\n",
       "      <td>1.0</td>\n",
       "      <td>1</td>\n",
       "      <td>0</td>\n",
       "      <td>0</td>\n",
       "      <td>UT</td>\n",
       "      <td>Investment Solutions Representative</td>\n",
       "    </tr>\n",
       "    <tr>\n",
       "      <th>1</th>\n",
       "      <td>Few jobs are off the phones. Call after call g...</td>\n",
       "      <td>NaN</td>\n",
       "      <td>NaN</td>\n",
       "      <td>\"Great job\"</td>\n",
       "      <td>NaN</td>\n",
       "      <td>Great benefits, great people. Work from home f...</td>\n",
       "      <td>Recommends,Positive Outlook,Approves of CEO</td>\n",
       "      <td>NaN</td>\n",
       "      <td>I have been working at Anonymous Investments f...</td>\n",
       "      <td>5.0</td>\n",
       "      <td>...</td>\n",
       "      <td>NaN</td>\n",
       "      <td>2020-06-16</td>\n",
       "      <td>1</td>\n",
       "      <td>3.5</td>\n",
       "      <td>1.0</td>\n",
       "      <td>1</td>\n",
       "      <td>0</td>\n",
       "      <td>0</td>\n",
       "      <td>NaN</td>\n",
       "      <td>Investment Solutions Representative</td>\n",
       "    </tr>\n",
       "    <tr>\n",
       "      <th>2</th>\n",
       "      <td>Phone call center, must be good on the phones.</td>\n",
       "      <td>5.0</td>\n",
       "      <td>American Fork, UT</td>\n",
       "      <td>\"Great place to work\"</td>\n",
       "      <td>4.0</td>\n",
       "      <td>Excellent benefits, plenty of opportunity to a...</td>\n",
       "      <td>NaN</td>\n",
       "      <td>5.0</td>\n",
       "      <td>I worked at Anonymous Investments full-time fo...</td>\n",
       "      <td>5.0</td>\n",
       "      <td>...</td>\n",
       "      <td>5.0</td>\n",
       "      <td>2020-06-17</td>\n",
       "      <td>0</td>\n",
       "      <td>5.5</td>\n",
       "      <td>1.0</td>\n",
       "      <td>0</td>\n",
       "      <td>0</td>\n",
       "      <td>0</td>\n",
       "      <td>UT</td>\n",
       "      <td>High Net Worth Service Associate</td>\n",
       "    </tr>\n",
       "    <tr>\n",
       "      <th>3</th>\n",
       "      <td>Easy to get fired. They don’t always give warn...</td>\n",
       "      <td>4.0</td>\n",
       "      <td>NaN</td>\n",
       "      <td>\"Good environment, not so stable.\"</td>\n",
       "      <td>3.0</td>\n",
       "      <td>Good environment \\n\\nNice scenery, cafeteria, ...</td>\n",
       "      <td>Recommends</td>\n",
       "      <td>3.0</td>\n",
       "      <td>I worked at Anonymous Investments full-time</td>\n",
       "      <td>4.0</td>\n",
       "      <td>...</td>\n",
       "      <td>3.0</td>\n",
       "      <td>2020-06-11</td>\n",
       "      <td>0</td>\n",
       "      <td>NaN</td>\n",
       "      <td>1.0</td>\n",
       "      <td>1</td>\n",
       "      <td>0</td>\n",
       "      <td>0</td>\n",
       "      <td>NaN</td>\n",
       "      <td>Financial Associate</td>\n",
       "    </tr>\n",
       "    <tr>\n",
       "      <th>4</th>\n",
       "      <td>No cons in my opinion</td>\n",
       "      <td>5.0</td>\n",
       "      <td>Los Angeles, CA</td>\n",
       "      <td>\"Great company\"</td>\n",
       "      <td>4.0</td>\n",
       "      <td>Good work environment in my opinion</td>\n",
       "      <td>Recommends,Positive Outlook,Approves of CEO</td>\n",
       "      <td>5.0</td>\n",
       "      <td>I worked at Anonymous Investments full-time</td>\n",
       "      <td>5.0</td>\n",
       "      <td>...</td>\n",
       "      <td>5.0</td>\n",
       "      <td>2020-06-11</td>\n",
       "      <td>0</td>\n",
       "      <td>NaN</td>\n",
       "      <td>1.0</td>\n",
       "      <td>1</td>\n",
       "      <td>0</td>\n",
       "      <td>0</td>\n",
       "      <td>CA</td>\n",
       "      <td>Investment Consultant</td>\n",
       "    </tr>\n",
       "  </tbody>\n",
       "</table>\n",
       "<p>5 rows × 22 columns</p>\n",
       "</div>"
      ],
      "text/plain": [
       "                                                 Con  Career Opportunities  \\\n",
       "0  - potentially slow upward movement beyond the ...                   5.0   \n",
       "1  Few jobs are off the phones. Call after call g...                   NaN   \n",
       "2     Phone call center, must be good on the phones.                   5.0   \n",
       "3  Easy to get fired. They don’t always give warn...                   4.0   \n",
       "4                              No cons in my opinion                   5.0   \n",
       "\n",
       "      Author Location                             Summary  Senior Management  \\\n",
       "0  Salt Lake City, UT                   \"Awesome Culture\"                4.0   \n",
       "1                 NaN                         \"Great job\"                NaN   \n",
       "2   American Fork, UT               \"Great place to work\"                4.0   \n",
       "3                 NaN  \"Good environment, not so stable.\"                3.0   \n",
       "4     Los Angeles, CA                     \"Great company\"                4.0   \n",
       "\n",
       "                                                 Pro  \\\n",
       "0  - awesome introduction into finance (no prior ...   \n",
       "1  Great benefits, great people. Work from home f...   \n",
       "2  Excellent benefits, plenty of opportunity to a...   \n",
       "3  Good environment \\n\\nNice scenery, cafeteria, ...   \n",
       "4                Good work environment in my opinion   \n",
       "\n",
       "                                Recommendation  Culture & Values  \\\n",
       "0  Recommends,Positive Outlook,Approves of CEO               5.0   \n",
       "1  Recommends,Positive Outlook,Approves of CEO               NaN   \n",
       "2                                          NaN               5.0   \n",
       "3                                   Recommends               3.0   \n",
       "4  Recommends,Positive Outlook,Approves of CEO               5.0   \n",
       "\n",
       "                                        Author Years  Overall Rating  ...  \\\n",
       "0  I have been working at Anonymous Investments f...             5.0  ...   \n",
       "1  I have been working at Anonymous Investments f...             5.0  ...   \n",
       "2  I worked at Anonymous Investments full-time fo...             5.0  ...   \n",
       "3        I worked at Anonymous Investments full-time             4.0  ...   \n",
       "4        I worked at Anonymous Investments full-time             5.0  ...   \n",
       "\n",
       "   Work/Life Balance Comment Datetime  Current Employee Tenure  Full-Time  \\\n",
       "0                5.0       2020-06-18                 1    1.5        1.0   \n",
       "1                NaN       2020-06-16                 1    3.5        1.0   \n",
       "2                5.0       2020-06-17                 0    5.5        1.0   \n",
       "3                3.0       2020-06-11                 0    NaN        1.0   \n",
       "4                5.0       2020-06-11                 0    NaN        1.0   \n",
       "\n",
       "   Recommended  Positive Outlook  Approves of CEO  State  \\\n",
       "0            1                 0                0     UT   \n",
       "1            1                 0                0    NaN   \n",
       "2            0                 0                0     UT   \n",
       "3            1                 0                0    NaN   \n",
       "4            1                 0                0     CA   \n",
       "\n",
       "                             Job Title  \n",
       "0  Investment Solutions Representative  \n",
       "1  Investment Solutions Representative  \n",
       "2     High Net Worth Service Associate  \n",
       "3                  Financial Associate  \n",
       "4                Investment Consultant  \n",
       "\n",
       "[5 rows x 22 columns]"
      ]
     },
     "execution_count": 24,
     "metadata": {},
     "output_type": "execute_result"
    }
   ],
   "source": [
    "df_loc_job_filled.head()"
   ]
  },
  {
   "cell_type": "markdown",
   "id": "88312304",
   "metadata": {},
   "source": [
    "# Drop variables"
   ]
  },
  {
   "cell_type": "code",
   "execution_count": 25,
   "id": "e8190725",
   "metadata": {},
   "outputs": [],
   "source": [
    "df_cleaned=df_loc_job_filled.drop(columns=['Recommendation','Author Title', 'Author Location','Author Years'])"
   ]
  },
  {
   "cell_type": "markdown",
   "id": "05c66c4b",
   "metadata": {},
   "source": [
    "# Reorder the columns"
   ]
  },
  {
   "cell_type": "code",
   "execution_count": 26,
   "id": "d7c854c3",
   "metadata": {},
   "outputs": [],
   "source": [
    "df_cleaned = df_cleaned[['Comment Datetime', 'State', 'Job Title','Tenure','Current Employee','Full-Time',\n",
    "                          'Summary','Pro','Con','Recommended', 'Positive Outlook','Approves of CEO',\n",
    "                          'Overall Rating','Career Opportunities','Compensation and Benefits',\n",
    "                          'Work/Life Balance','Senior Management','Culture & Values']]"
   ]
  },
  {
   "cell_type": "code",
   "execution_count": 27,
   "id": "fed1dc2e",
   "metadata": {},
   "outputs": [],
   "source": [
    "df_cleaned.set_index('Comment Datetime', inplace=True)"
   ]
  },
  {
   "cell_type": "markdown",
   "id": "504c48a4",
   "metadata": {},
   "source": [
    "# Sort dataframe by index"
   ]
  },
  {
   "cell_type": "code",
   "execution_count": 30,
   "id": "70cd2462",
   "metadata": {},
   "outputs": [],
   "source": [
    "df_cleaned=df_cleaned.sort_index()"
   ]
  },
  {
   "cell_type": "code",
   "execution_count": 31,
   "id": "dfb02be8",
   "metadata": {},
   "outputs": [
    {
     "data": {
      "text/html": [
       "<div>\n",
       "<style scoped>\n",
       "    .dataframe tbody tr th:only-of-type {\n",
       "        vertical-align: middle;\n",
       "    }\n",
       "\n",
       "    .dataframe tbody tr th {\n",
       "        vertical-align: top;\n",
       "    }\n",
       "\n",
       "    .dataframe thead th {\n",
       "        text-align: right;\n",
       "    }\n",
       "</style>\n",
       "<table border=\"1\" class=\"dataframe\">\n",
       "  <thead>\n",
       "    <tr style=\"text-align: right;\">\n",
       "      <th></th>\n",
       "      <th>State</th>\n",
       "      <th>Job Title</th>\n",
       "      <th>Tenure</th>\n",
       "      <th>Current Employee</th>\n",
       "      <th>Full-Time</th>\n",
       "      <th>Summary</th>\n",
       "      <th>Pro</th>\n",
       "      <th>Con</th>\n",
       "      <th>Recommended</th>\n",
       "      <th>Positive Outlook</th>\n",
       "      <th>Approves of CEO</th>\n",
       "      <th>Overall Rating</th>\n",
       "      <th>Career Opportunities</th>\n",
       "      <th>Compensation and Benefits</th>\n",
       "      <th>Work/Life Balance</th>\n",
       "      <th>Senior Management</th>\n",
       "      <th>Culture &amp; Values</th>\n",
       "    </tr>\n",
       "    <tr>\n",
       "      <th>Comment Datetime</th>\n",
       "      <th></th>\n",
       "      <th></th>\n",
       "      <th></th>\n",
       "      <th></th>\n",
       "      <th></th>\n",
       "      <th></th>\n",
       "      <th></th>\n",
       "      <th></th>\n",
       "      <th></th>\n",
       "      <th></th>\n",
       "      <th></th>\n",
       "      <th></th>\n",
       "      <th></th>\n",
       "      <th></th>\n",
       "      <th></th>\n",
       "      <th></th>\n",
       "      <th></th>\n",
       "    </tr>\n",
       "  </thead>\n",
       "  <tbody>\n",
       "    <tr>\n",
       "      <th>2008-06-11</th>\n",
       "      <td>MA</td>\n",
       "      <td>Director</td>\n",
       "      <td>NaN</td>\n",
       "      <td>1</td>\n",
       "      <td>NaN</td>\n",
       "      <td>\"very political\"</td>\n",
       "      <td>privately owned company that can look at long ...</td>\n",
       "      <td>risk averse management that does not know how ...</td>\n",
       "      <td>-1</td>\n",
       "      <td>0</td>\n",
       "      <td>0</td>\n",
       "      <td>2.0</td>\n",
       "      <td>2.0</td>\n",
       "      <td>2.5</td>\n",
       "      <td>3.5</td>\n",
       "      <td>2.5</td>\n",
       "      <td>NaN</td>\n",
       "    </tr>\n",
       "  </tbody>\n",
       "</table>\n",
       "</div>"
      ],
      "text/plain": [
       "                 State Job Title  Tenure  Current Employee  Full-Time  \\\n",
       "Comment Datetime                                                        \n",
       "2008-06-11          MA  Director     NaN                 1        NaN   \n",
       "\n",
       "                           Summary  \\\n",
       "Comment Datetime                     \n",
       "2008-06-11        \"very political\"   \n",
       "\n",
       "                                                                Pro  \\\n",
       "Comment Datetime                                                      \n",
       "2008-06-11        privately owned company that can look at long ...   \n",
       "\n",
       "                                                                Con  \\\n",
       "Comment Datetime                                                      \n",
       "2008-06-11        risk averse management that does not know how ...   \n",
       "\n",
       "                  Recommended  Positive Outlook  Approves of CEO  \\\n",
       "Comment Datetime                                                   \n",
       "2008-06-11                 -1                 0                0   \n",
       "\n",
       "                  Overall Rating  Career Opportunities  \\\n",
       "Comment Datetime                                         \n",
       "2008-06-11                   2.0                   2.0   \n",
       "\n",
       "                  Compensation and Benefits  Work/Life Balance  \\\n",
       "Comment Datetime                                                 \n",
       "2008-06-11                              2.5                3.5   \n",
       "\n",
       "                  Senior Management  Culture & Values  \n",
       "Comment Datetime                                       \n",
       "2008-06-11                      2.5               NaN  "
      ]
     },
     "execution_count": 31,
     "metadata": {},
     "output_type": "execute_result"
    }
   ],
   "source": [
    "df_cleaned.head(1)"
   ]
  },
  {
   "cell_type": "markdown",
   "id": "8d86576d",
   "metadata": {},
   "source": [
    "# Check missing values"
   ]
  },
  {
   "cell_type": "code",
   "execution_count": 32,
   "id": "b97ff908",
   "metadata": {},
   "outputs": [
    {
     "data": {
      "text/plain": [
       "State                        3389\n",
       "Job Title                       0\n",
       "Tenure                       2847\n",
       "Current Employee                0\n",
       "Full-Time                    2006\n",
       "Summary                         0\n",
       "Pro                             0\n",
       "Con                             0\n",
       "Recommended                     0\n",
       "Positive Outlook                0\n",
       "Approves of CEO                 0\n",
       "Overall Rating                  0\n",
       "Career Opportunities          697\n",
       "Compensation and Benefits     689\n",
       "Work/Life Balance             695\n",
       "Senior Management             733\n",
       "Culture & Values             1515\n",
       "dtype: int64"
      ]
     },
     "execution_count": 32,
     "metadata": {},
     "output_type": "execute_result"
    }
   ],
   "source": [
    "df_cleaned.isnull().sum()"
   ]
  },
  {
   "cell_type": "code",
   "execution_count": 33,
   "id": "7bb52bf8",
   "metadata": {},
   "outputs": [
    {
     "data": {
      "text/html": [
       "<div>\n",
       "<style scoped>\n",
       "    .dataframe tbody tr th:only-of-type {\n",
       "        vertical-align: middle;\n",
       "    }\n",
       "\n",
       "    .dataframe tbody tr th {\n",
       "        vertical-align: top;\n",
       "    }\n",
       "\n",
       "    .dataframe thead th {\n",
       "        text-align: right;\n",
       "    }\n",
       "</style>\n",
       "<table border=\"1\" class=\"dataframe\">\n",
       "  <thead>\n",
       "    <tr style=\"text-align: right;\">\n",
       "      <th></th>\n",
       "      <th>Tenure</th>\n",
       "      <th>Current Employee</th>\n",
       "      <th>Full-Time</th>\n",
       "      <th>Recommended</th>\n",
       "      <th>Positive Outlook</th>\n",
       "      <th>Approves of CEO</th>\n",
       "      <th>Overall Rating</th>\n",
       "      <th>Career Opportunities</th>\n",
       "      <th>Compensation and Benefits</th>\n",
       "      <th>Work/Life Balance</th>\n",
       "      <th>Senior Management</th>\n",
       "      <th>Culture &amp; Values</th>\n",
       "    </tr>\n",
       "  </thead>\n",
       "  <tbody>\n",
       "    <tr>\n",
       "      <th>count</th>\n",
       "      <td>3539.000000</td>\n",
       "      <td>6386.00000</td>\n",
       "      <td>4380.000000</td>\n",
       "      <td>6386.000000</td>\n",
       "      <td>6386.000000</td>\n",
       "      <td>6386.000000</td>\n",
       "      <td>6386.000000</td>\n",
       "      <td>5689.000000</td>\n",
       "      <td>5697.000000</td>\n",
       "      <td>5691.000000</td>\n",
       "      <td>5653.000000</td>\n",
       "      <td>4871.000000</td>\n",
       "    </tr>\n",
       "    <tr>\n",
       "      <th>mean</th>\n",
       "      <td>4.409296</td>\n",
       "      <td>0.56248</td>\n",
       "      <td>0.990411</td>\n",
       "      <td>0.424679</td>\n",
       "      <td>0.003288</td>\n",
       "      <td>0.015346</td>\n",
       "      <td>3.712809</td>\n",
       "      <td>3.427140</td>\n",
       "      <td>3.832631</td>\n",
       "      <td>3.724653</td>\n",
       "      <td>3.226605</td>\n",
       "      <td>3.845001</td>\n",
       "    </tr>\n",
       "    <tr>\n",
       "      <th>std</th>\n",
       "      <td>3.450280</td>\n",
       "      <td>0.49612</td>\n",
       "      <td>0.097464</td>\n",
       "      <td>0.790138</td>\n",
       "      <td>0.081998</td>\n",
       "      <td>0.158545</td>\n",
       "      <td>1.110729</td>\n",
       "      <td>1.177508</td>\n",
       "      <td>1.013139</td>\n",
       "      <td>1.145637</td>\n",
       "      <td>1.259235</td>\n",
       "      <td>1.225665</td>\n",
       "    </tr>\n",
       "    <tr>\n",
       "      <th>min</th>\n",
       "      <td>0.500000</td>\n",
       "      <td>0.00000</td>\n",
       "      <td>0.000000</td>\n",
       "      <td>-1.000000</td>\n",
       "      <td>-1.000000</td>\n",
       "      <td>-1.000000</td>\n",
       "      <td>1.000000</td>\n",
       "      <td>1.000000</td>\n",
       "      <td>1.000000</td>\n",
       "      <td>1.000000</td>\n",
       "      <td>1.000000</td>\n",
       "      <td>1.000000</td>\n",
       "    </tr>\n",
       "    <tr>\n",
       "      <th>25%</th>\n",
       "      <td>1.500000</td>\n",
       "      <td>0.00000</td>\n",
       "      <td>1.000000</td>\n",
       "      <td>0.000000</td>\n",
       "      <td>0.000000</td>\n",
       "      <td>0.000000</td>\n",
       "      <td>3.000000</td>\n",
       "      <td>3.000000</td>\n",
       "      <td>3.000000</td>\n",
       "      <td>3.000000</td>\n",
       "      <td>2.000000</td>\n",
       "      <td>3.000000</td>\n",
       "    </tr>\n",
       "    <tr>\n",
       "      <th>50%</th>\n",
       "      <td>3.500000</td>\n",
       "      <td>1.00000</td>\n",
       "      <td>1.000000</td>\n",
       "      <td>1.000000</td>\n",
       "      <td>0.000000</td>\n",
       "      <td>0.000000</td>\n",
       "      <td>4.000000</td>\n",
       "      <td>3.500000</td>\n",
       "      <td>4.000000</td>\n",
       "      <td>4.000000</td>\n",
       "      <td>3.000000</td>\n",
       "      <td>4.000000</td>\n",
       "    </tr>\n",
       "    <tr>\n",
       "      <th>75%</th>\n",
       "      <td>5.500000</td>\n",
       "      <td>1.00000</td>\n",
       "      <td>1.000000</td>\n",
       "      <td>1.000000</td>\n",
       "      <td>0.000000</td>\n",
       "      <td>0.000000</td>\n",
       "      <td>5.000000</td>\n",
       "      <td>4.000000</td>\n",
       "      <td>5.000000</td>\n",
       "      <td>5.000000</td>\n",
       "      <td>4.000000</td>\n",
       "      <td>5.000000</td>\n",
       "    </tr>\n",
       "    <tr>\n",
       "      <th>max</th>\n",
       "      <td>10.500000</td>\n",
       "      <td>1.00000</td>\n",
       "      <td>1.000000</td>\n",
       "      <td>1.000000</td>\n",
       "      <td>1.000000</td>\n",
       "      <td>1.000000</td>\n",
       "      <td>5.000000</td>\n",
       "      <td>5.000000</td>\n",
       "      <td>5.000000</td>\n",
       "      <td>5.000000</td>\n",
       "      <td>5.000000</td>\n",
       "      <td>5.000000</td>\n",
       "    </tr>\n",
       "  </tbody>\n",
       "</table>\n",
       "</div>"
      ],
      "text/plain": [
       "            Tenure  Current Employee    Full-Time  Recommended  \\\n",
       "count  3539.000000        6386.00000  4380.000000  6386.000000   \n",
       "mean      4.409296           0.56248     0.990411     0.424679   \n",
       "std       3.450280           0.49612     0.097464     0.790138   \n",
       "min       0.500000           0.00000     0.000000    -1.000000   \n",
       "25%       1.500000           0.00000     1.000000     0.000000   \n",
       "50%       3.500000           1.00000     1.000000     1.000000   \n",
       "75%       5.500000           1.00000     1.000000     1.000000   \n",
       "max      10.500000           1.00000     1.000000     1.000000   \n",
       "\n",
       "       Positive Outlook  Approves of CEO  Overall Rating  \\\n",
       "count       6386.000000      6386.000000     6386.000000   \n",
       "mean           0.003288         0.015346        3.712809   \n",
       "std            0.081998         0.158545        1.110729   \n",
       "min           -1.000000        -1.000000        1.000000   \n",
       "25%            0.000000         0.000000        3.000000   \n",
       "50%            0.000000         0.000000        4.000000   \n",
       "75%            0.000000         0.000000        5.000000   \n",
       "max            1.000000         1.000000        5.000000   \n",
       "\n",
       "       Career Opportunities  Compensation and Benefits  Work/Life Balance  \\\n",
       "count           5689.000000                5697.000000        5691.000000   \n",
       "mean               3.427140                   3.832631           3.724653   \n",
       "std                1.177508                   1.013139           1.145637   \n",
       "min                1.000000                   1.000000           1.000000   \n",
       "25%                3.000000                   3.000000           3.000000   \n",
       "50%                3.500000                   4.000000           4.000000   \n",
       "75%                4.000000                   5.000000           5.000000   \n",
       "max                5.000000                   5.000000           5.000000   \n",
       "\n",
       "       Senior Management  Culture & Values  \n",
       "count        5653.000000       4871.000000  \n",
       "mean            3.226605          3.845001  \n",
       "std             1.259235          1.225665  \n",
       "min             1.000000          1.000000  \n",
       "25%             2.000000          3.000000  \n",
       "50%             3.000000          4.000000  \n",
       "75%             4.000000          5.000000  \n",
       "max             5.000000          5.000000  "
      ]
     },
     "execution_count": 33,
     "metadata": {},
     "output_type": "execute_result"
    }
   ],
   "source": [
    "df_cleaned.describe()"
   ]
  },
  {
   "cell_type": "markdown",
   "id": "d8629159",
   "metadata": {},
   "source": [
    "# Plot all ratings columns"
   ]
  },
  {
   "cell_type": "code",
   "execution_count": 34,
   "id": "42a6617f",
   "metadata": {},
   "outputs": [
    {
     "data": {
      "image/png": "[encoded data removed]",
      "text/plain": [
       "<Figure size 936x432 with 6 Axes>"
      ]
     },
     "metadata": {},
     "output_type": "display_data"
    }
   ],
   "source": [
    "col_list=['Overall Rating','Career Opportunities','Compensation and Benefits','Work/Life Balance','Senior Management','Culture & Values']\n",
    "\n",
    "figure,axis=plt.subplots(1,6,figsize=(13,6))\n",
    "\n",
    "for column,curr_ax in zip(col_list,axis.ravel()):\n",
    "    curr_ax.boxplot(df_cleaned[column].dropna())\n",
    "    curr_ax.set_title(f'{column}')\n",
    "plt.tight_layout()\n",
    "plt.show()"
   ]
  },
  {
   "cell_type": "markdown",
   "id": "b459d4c8",
   "metadata": {},
   "source": [
    "#### On a scale of 1-5, the company's median overall rating is 4 which is pretty good.  Breaking down to 5 categories, employees rated the highest in compensation & benefits, work/life balance and culture & values. Senior management rating's median value is 3, which is the lowest, and career opportunities'median rating is 3.5. Culture & Values has a median rating as 4.  There are a few outliers in career opportunities and culture & values."
   ]
  },
  {
   "cell_type": "markdown",
   "id": "a5520e88",
   "metadata": {},
   "source": [
    "# Plot overall rating over the years"
   ]
  },
  {
   "cell_type": "code",
   "execution_count": 35,
   "id": "6d40f065",
   "metadata": {},
   "outputs": [
    {
     "data": {
      "image/png": "[encoded data removed]",
      "text/plain": [
       "<Figure size 720x360 with 1 Axes>"
      ]
     },
     "metadata": {},
     "output_type": "display_data"
    }
   ],
   "source": [
    "from datetime import datetime\n",
    "fig,ax = plt.subplots(figsize=(10,5))\n",
    "\n",
    "x = sorted(df_cleaned.index.year.unique())\n",
    "y = df_cleaned.groupby(df_cleaned.index.year)['Overall Rating'].mean()\n",
    "\n",
    "ax.plot(x, y, color='blue', marker = 'o',label='Overall Rating')\n",
    "ax.set_title('Overall Rating vs. Year', fontsize=20)\n",
    "ax.set_xlabel('Year')\n",
    "ax.set_ylabel('Overall rating')\n",
    "# plt.savefig('overall_rating_vs_year.png')\n",
    "\n",
    "plt.show()  "
   ]
  },
  {
   "cell_type": "markdown",
   "id": "16486e76",
   "metadata": {},
   "source": [
    "# Plot recommendation"
   ]
  },
  {
   "cell_type": "code",
   "execution_count": 36,
   "id": "a86bde3a",
   "metadata": {},
   "outputs": [
    {
     "data": {
      "image/png": "[encoded data removed]",
      "text/plain": [
       "<Figure size 432x288 with 1 Axes>"
      ]
     },
     "metadata": {},
     "output_type": "display_data"
    }
   ],
   "source": [
    "reco_count=df_cleaned['Recommended'].value_counts(normalize=True)\n",
    "\n",
    "fig,ax=plt.subplots()\n",
    "ax.bar(['Recommend','Unknown','Not Recommend'],reco_count, color=['tab:orange','tab:olive','tab:blue'])\n",
    "ax.set_title('Recommend or Not?')\n",
    "ax.set_ylabel('Freq')\n",
    "\n",
    "plt.show()"
   ]
  },
  {
   "cell_type": "markdown",
   "id": "2c95ff03",
   "metadata": {},
   "source": [
    "# Plot sub-categories average ratings"
   ]
  },
  {
   "cell_type": "code",
   "execution_count": 37,
   "id": "364a329d",
   "metadata": {},
   "outputs": [
    {
     "name": "stderr",
     "output_type": "stream",
     "text": [
      "<ipython-input-37-99ec1da54552>:11: UserWarning: FixedFormatter should only be used together with FixedLocator\n",
      "  ax.set_xticklabels(avg_ratings.index,rotation=45)\n"
     ]
    },
    {
     "data": {
      "image/png": "[encoded data removed]",
      "text/plain": [
       "<Figure size 864x360 with 1 Axes>"
      ]
     },
     "metadata": {},
     "output_type": "display_data"
    }
   ],
   "source": [
    "column_list = ['Overall Rating','Career Opportunities','Compensation and Benefits',\n",
    "               'Work/Life Balance','Senior Management','Culture & Values']\n",
    "\n",
    "avg_ratings=df_cleaned[column_list].mean()\n",
    "color_code=['tab:orange','tab:pink','tab:blue','tab:olive','tab:brown','tab:green']\n",
    "\n",
    "fig,ax=plt.subplots(figsize=(12,5))\n",
    "ax.bar(avg_ratings.index, avg_ratings,color=color_code)\n",
    "ax.set_title('Average Ratings')\n",
    "ax.set_ylabel('Freq')\n",
    "ax.set_xticklabels(avg_ratings.index,rotation=45)\n",
    "plt.show()\n"
   ]
  },
  {
   "cell_type": "markdown",
   "id": "660bd3cc",
   "metadata": {},
   "source": [
    "# Plot the 10 states with top ratings"
   ]
  },
  {
   "cell_type": "code",
   "execution_count": 38,
   "id": "da05d0d6",
   "metadata": {},
   "outputs": [
    {
     "data": {
      "image/png": "[encoded data removed]",
      "text/plain": [
       "<Figure size 720x360 with 1 Axes>"
      ]
     },
     "metadata": {},
     "output_type": "display_data"
    }
   ],
   "source": [
    "top_10 = df_cleaned.groupby('State')['Overall Rating'].mean().nlargest(10)\n",
    "colors2 = ['tab:blue', 'tab:orange', 'tab:green', 'tab:red', 'tab:purple', \n",
    "           'tab:brown', 'tab:pink', 'tab:gray', 'tab:olive', 'tab:cyan']\n",
    "\n",
    "fig,ax = plt.subplots(figsize=(10,5))\n",
    "ax.bar(top_10.index,top_10, color=colors2)\n",
    "ax.set_title('Top 10 States with Highest Ratings', fontsize=20)\n",
    "ax.set_xlabel('States')\n",
    "ax.set_ylabel('Overall rating')\n",
    "# plt.savefig('top10_states_high_rate.png')\n",
    "\n",
    "plt.show()"
   ]
  },
  {
   "cell_type": "markdown",
   "id": "ab35bdea",
   "metadata": {},
   "source": [
    "# Plot the 5 states with lowest ratings"
   ]
  },
  {
   "cell_type": "code",
   "execution_count": 39,
   "id": "098ed3ef",
   "metadata": {},
   "outputs": [
    {
     "data": {
      "image/png": "[encoded data removed]",
      "text/plain": [
       "<Figure size 720x360 with 1 Axes>"
      ]
     },
     "metadata": {},
     "output_type": "display_data"
    }
   ],
   "source": [
    " lowest_5 = df_cleaned.groupby('State')['Overall Rating'].mean().nsmallest(5)\n",
    "colors3 = ['tab:blue','tab:pink','tab:cyan','tab:orange','tab:purple']\n",
    "\n",
    "fig,ax = plt.subplots(figsize=(10,5))\n",
    "ax.bar(lowest_5.index,lowest_5, color=colors3)\n",
    "ax.set_title('Top 5 States with Lowest Ratings',fontsize=20)\n",
    "ax.set_xlabel('States')\n",
    "ax.set_ylabel('Overall rating')\n",
    "# plt.savefig('top5_states_low_rate.png')\n",
    "\n",
    "plt.show()"
   ]
  },
  {
   "cell_type": "code",
   "execution_count": 40,
   "id": "198a241c",
   "metadata": {},
   "outputs": [
    {
     "data": {
      "text/plain": [
       "1"
      ]
     },
     "execution_count": 40,
     "metadata": {},
     "output_type": "execute_result"
    }
   ],
   "source": [
    "# check how many employees submitted feedback in NE since its rating is so low\n",
    "len(df_cleaned.loc[df_cleaned.State=='NE'])"
   ]
  },
  {
   "cell_type": "markdown",
   "id": "ad0c0c1b",
   "metadata": {},
   "source": [
    "#### There is actually only 1 employee in NE submitted feedback to Glassdoor.\n",
    "\n",
    "#### Looks like employees in KS and WI have the highest employee satisfaction and employees in NE (only 1 submitted review) are the unhappiest. Of note, the location data indicates 'Author Location', we assumed these employees are based locally in the company's branches in that particular state. If there are substantial remote employees, this conclusion may not be accurate."
   ]
  },
  {
   "cell_type": "markdown",
   "id": "040bbfe3",
   "metadata": {},
   "source": [
    "# Plot overall rating by full-time/part-time employee"
   ]
  },
  {
   "cell_type": "code",
   "execution_count": 41,
   "id": "6cb1c816",
   "metadata": {},
   "outputs": [
    {
     "data": {
      "image/png": "[encoded data removed]",
      "text/plain": [
       "<Figure size 432x288 with 1 Axes>"
      ]
     },
     "metadata": {},
     "output_type": "display_data"
    }
   ],
   "source": [
    "rate_by_fte = df_cleaned.groupby('Full-Time')['Overall Rating'].mean()\n",
    "\n",
    "fig, ax = plt.subplots()\n",
    "ax.bar(['Part_Time', 'Full_Time'], rate_by_fte,color=['tab:pink','tab:cyan'])\n",
    "ax.set_title('Overall Ratings by Full/Part-time Employee', fontsize=20)\n",
    "ax.set_ylabel('Overall rating')\n",
    "# plt.savefig('rating_by_fulltime_parttime.png')\n",
    "\n",
    "plt.show()"
   ]
  },
  {
   "cell_type": "markdown",
   "id": "78f270cb",
   "metadata": {},
   "source": [
    "# Plot overall rating by current/former employee"
   ]
  },
  {
   "cell_type": "code",
   "execution_count": 42,
   "id": "c3b2f14a",
   "metadata": {},
   "outputs": [
    {
     "data": {
      "image/png": "[encoded data removed]",
      "text/plain": [
       "<Figure size 432x288 with 1 Axes>"
      ]
     },
     "metadata": {},
     "output_type": "display_data"
    }
   ],
   "source": [
    "rat_by_emp_type=df_cleaned.groupby('Current Employee')['Overall Rating'].mean()\n",
    "\n",
    "color_emp_type=['tab:pink','tab:cyan']\n",
    "fig,ax=plt.subplots()\n",
    "ax.bar(['Former Employee', 'Current Employee'], rat_by_emp_type,color=['tab:pink','tab:cyan'])\n",
    "ax.set_title('Overall Ratings by Current/Former Employee', fontsize=20)\n",
    "ax.set_ylabel('Overall rating')\n",
    "plt.show()"
   ]
  },
  {
   "cell_type": "markdown",
   "id": "c5c7b09d",
   "metadata": {},
   "source": [
    "# Plot the most frenquest reviewer job titles"
   ]
  },
  {
   "cell_type": "code",
   "execution_count": 43,
   "id": "9efde126",
   "metadata": {},
   "outputs": [
    {
     "data": {
      "image/png": "[encoded data removed]",
      "text/plain": [
       "<Figure size 864x504 with 1 Axes>"
      ]
     },
     "metadata": {},
     "output_type": "display_data"
    }
   ],
   "source": [
    "top_20_job = df_cleaned['Job Title'].value_counts().nlargest(20)\n",
    "\n",
    "plt.figure(figsize=(12,7))\n",
    "sns.countplot(y='Job Title',data=df_cleaned, order=top_20_job.index)\n",
    "sns.set_context('talk')\n",
    "plt.title('Most Frequest Employee Job Titles', fontsize=20)\n",
    "# figure.savefig('most_freq_job_title.png',bbox_inches = 'tight')\n",
    "\n",
    "plt.show()"
   ]
  },
  {
   "cell_type": "markdown",
   "id": "ccb92dba",
   "metadata": {},
   "source": [
    "# Plot the reviewers in the top 20 job families' overall rating"
   ]
  },
  {
   "cell_type": "code",
   "execution_count": 44,
   "id": "5bf2cf4d",
   "metadata": {},
   "outputs": [
    {
     "data": {
      "image/png": "[encoded data removed]",
      "text/plain": [
       "<Figure size 864x504 with 1 Axes>"
      ]
     },
     "metadata": {},
     "output_type": "display_data"
    }
   ],
   "source": [
    "top_20job_review = df_cleaned.loc[df_cleaned['Job Title'].isin(top_20_job.index), ['Job Title','Overall Rating']]\n",
    "top_20job_mean_review = top_20job_review.groupby('Job Title')['Overall Rating'].mean().sort_values(ascending = False)\n",
    "\n",
    "plt.figure(figsize=(12,7))\n",
    "sns.barplot(y=top_20job_mean_review.index, x=top_20job_mean_review, hue_order=top_20job_mean_review)\n",
    "sns.set_context('talk')\n",
    "plt.title('Overall Rating by Job Family', fontsize=20)\n",
    "# figure.savefig('rating_by_job_family.png',bbox_inches = 'tight')\n",
    "\n",
    "plt.show()"
   ]
  },
  {
   "cell_type": "markdown",
   "id": "7b50b33a",
   "metadata": {},
   "source": [
    "# Export cleaned data"
   ]
  },
  {
   "cell_type": "code",
   "execution_count": 45,
   "id": "a806e38c",
   "metadata": {},
   "outputs": [],
   "source": [
    "df_cleaned.to_csv(r'/company-review-analysis-master/dataset/df_cleaned1.csv')"
   ]
  }
 ],
 "metadata": {
  "kernelspec": {
   "display_name": "Python 3",
   "language": "python",
   "name": "python3"
  },
  "language_info": {
   "codemirror_mode": {
    "name": "ipython",
    "version": 3
   },
   "file_extension": ".py",
   "mimetype": "text/x-python",
   "name": "python",
   "nbconvert_exporter": "python",
   "pygments_lexer": "ipython3",
   "version": "3.8.8"
  }
 },
 "nbformat": 4,
 "nbformat_minor": 5
}
